{
 "cells": [
  {
   "cell_type": "markdown",
   "metadata": {},
   "source": [
    "# Step 1. Import data and Data Exploration"
   ]
  },
  {
   "cell_type": "code",
   "execution_count": 2,
   "metadata": {
    "collapsed": false
   },
   "outputs": [
    {
     "name": "stdout",
     "output_type": "stream",
     "text": [
      "Extracting MNIST_data/train-images-idx3-ubyte.gz\n",
      "Extracting MNIST_data/train-labels-idx1-ubyte.gz\n",
      "Extracting MNIST_data/t10k-images-idx3-ubyte.gz\n",
      "Extracting MNIST_data/t10k-labels-idx1-ubyte.gz\n"
     ]
    }
   ],
   "source": [
    "from tensorflow.examples.tutorials.mnist import input_data\n",
    "mnist = input_data.read_data_sets(\"MNIST_data/\", one_hot=True)"
   ]
  },
  {
   "cell_type": "code",
   "execution_count": 3,
   "metadata": {
    "collapsed": false
   },
   "outputs": [
    {
     "name": "stdout",
     "output_type": "stream",
     "text": [
      "Shape of Training Dataset: (55000, 784)\n",
      "Shape of Training Labels: (55000, 10)\n",
      "Shape of Test Dataset: (10000, 784)\n",
      "Shape of Test Labels: (10000, 10)\n"
     ]
    }
   ],
   "source": [
    "print (\"Shape of Training Dataset: %s\" % str(mnist.train.images.shape))\n",
    "print (\"Shape of Training Labels: %s\" % str(mnist.train.labels.shape))\n",
    "print (\"Shape of Test Dataset: %s\" % str(mnist.test.images.shape))\n",
    "print (\"Shape of Test Labels: %s\" % str(mnist.test.labels.shape))"
   ]
  },
  {
   "cell_type": "markdown",
   "metadata": {},
   "source": [
    "# Step 2. Construct a tensorflow graph\n",
    "It is a Fully-connected 2-Layer Neural Network [784, 10]\n",
    " * Activation: Softmax \n",
    " * Learning Rate: 0.5\n",
    " * Loss: Cross Entropy"
   ]
  },
  {
   "cell_type": "code",
   "execution_count": 23,
   "metadata": {
    "collapsed": false
   },
   "outputs": [],
   "source": [
    "import tensorflow as tf\n",
    "\n",
    "# Initializing tensorflow graph\n",
    "graph = tf.Graph()\n",
    "with graph.as_default():\n",
    "    # Declaring placeholders \n",
    "    tfTrainingData = tf.placeholder(tf.float32, [None, 784])\n",
    "    tfTrainingLabels = tf.placeholder(tf.float32, [None, 10])\n",
    "    keep_prob = tf.placeholder(tf.float32)\n",
    "    \n",
    "    def weight_variable(shape):\n",
    "        return tf.Variable(tf.truncated_normal(shape, stddev=0.1))\n",
    "    \n",
    "    def bias_variable(shape):\n",
    "        return tf.Variable(tf.constant(0.1, shape=shape))\n",
    "    \n",
    "    def conv2d(x, W):\n",
    "        return tf.nn.conv2d(x, W, strides=[1,1,1,1], padding='SAME')\n",
    "    \n",
    "    def max_pool_2x2(x):\n",
    "        return tf.nn.max_pool(x, ksize=[1,2,2,1], strides=[1,2,2,1], padding='SAME')\n",
    "    \n",
    "    W_conv1 = weight_variable([5, 5, 1, 32])\n",
    "    b_conv1 = bias_variable([32])\n",
    "    \n",
    "    x_image = tf.reshape(tfTrainingData, [-1, 28, 28, 1])\n",
    "    \n",
    "    h_conv1 = tf.nn.relu(conv2d(x_image, W_conv1) + b_conv1)\n",
    "    h_pool1 = max_pool_2x2(h_conv1)\n",
    "    \n",
    "    W_conv2 = weight_variable([5, 5, 32, 64])\n",
    "    b_conv2 = bias_variable([64])\n",
    "    \n",
    "    h_conv2 = tf.nn.relu(conv2d(h_pool1, W_conv2) + b_conv2)\n",
    "    h_pool2 = max_pool_2x2(h_conv2)\n",
    "    \n",
    "    W_fc1 = weight_variable([7*7*64, 1024])\n",
    "    b_fc1 = bias_variable([1024])\n",
    "    \n",
    "    h_pool2_flat = tf.reshape(h_pool2, [-1, 7*7*64])\n",
    "    h_fc1 = tf.nn.relu(tf.matmul(h_pool2_flat, W_fc1) + b_fc1)\n",
    "    \n",
    "    h_fc_1_drop = tf.nn.dropout(h_fc1, keep_prob)\n",
    "    \n",
    "    W_fc2 = weight_variable([1024, 10])\n",
    "    b_fc2 = bias_variable([10])\n",
    "    output = tf.nn.softmax(tf.matmul(h_fc_1_drop, W_fc2) + b_fc2)\n",
    "    # Declaring Operations\n",
    "    loss = tf.reduce_mean(-tf.reduce_sum(tfTrainingLabels * tf.log(output), reduction_indices=[1]))\n",
    "    optimizer = tf.train.AdamOptimizer(1e-4).minimize(loss)\n",
    "    correctPrediction = tf.equal(tf.argmax(output, 1), tf.argmax(tfTrainingLabels, 1))\n",
    "    accuracy = tf.reduce_mean(tf.cast(correctPrediction, tf.float32))"
   ]
  },
  {
   "cell_type": "markdown",
   "metadata": {},
   "source": [
    "# Step 3. Let the tensor flows!"
   ]
  },
  {
   "cell_type": "code",
   "execution_count": 22,
   "metadata": {
    "collapsed": false
   },
   "outputs": [
    {
     "name": "stdout",
     "output_type": "stream",
     "text": [
      "Step     0: Loss =  11.110835, Accuracy =   0.140000\n",
      "Step   100: Loss =   1.235339, Accuracy =   0.640000\n",
      "Step   200: Loss =   0.859897, Accuracy =   0.760000\n",
      "Step   300: Loss =   0.427537, Accuracy =   0.880000\n",
      "Step   400: Loss =   0.330915, Accuracy =   0.900000\n",
      "Step   500: Loss =   0.193836, Accuracy =   0.920000\n",
      "Step   600: Loss =   0.496489, Accuracy =   0.860000\n",
      "Step   700: Loss =   0.470899, Accuracy =   0.900000\n",
      "Step   800: Loss =   0.265499, Accuracy =   0.920000\n",
      "Step   900: Loss =   0.448943, Accuracy =   0.900000\n",
      "Step  1000: Loss =   0.178400, Accuracy =   0.960000\n",
      "Step  1100: Loss =   0.237944, Accuracy =   0.940000\n",
      "Step  1200: Loss =   0.393328, Accuracy =   0.920000\n",
      "Step  1300: Loss =   0.121720, Accuracy =   0.960000\n",
      "Step  1400: Loss =   0.089794, Accuracy =   0.980000\n",
      "Step  1500: Loss =   0.183843, Accuracy =   0.920000\n",
      "Step  1600: Loss =   0.142925, Accuracy =   0.960000\n",
      "Step  1700: Loss =   0.089637, Accuracy =   0.960000\n",
      "Step  1800: Loss =   0.158342, Accuracy =   0.940000\n",
      "Step  1900: Loss =   0.204921, Accuracy =   0.960000\n",
      "Test Accuracy =   0.975900\n"
     ]
    }
   ],
   "source": [
    "# Flow the tensors here \n",
    "with tf.Session(graph=graph) as session:\n",
    "    session.run(tf.initialize_all_variables())\n",
    "\n",
    "    for step in range(2000):\n",
    "        batchTrainingDataset, batchTrainingLabels = mnist.train.next_batch(50)\n",
    "        _, stepLoss, stepAcc = session.run([optimizer, loss, accuracy], \n",
    "                                    feed_dict={tfTrainingData: batchTrainingDataset,\n",
    "                                               tfTrainingLabels: batchTrainingLabels,\n",
    "                                               keep_prob: 0.5})\n",
    "        if (step % 100 == 0):\n",
    "            print (\"Step %5d: Loss = %10.6f, Accuracy = %10.6f\" % (step, stepLoss, stepAcc))\n",
    "        \n",
    "    testAccuracy = session.run(accuracy, feed_dict={tfTrainingData: mnist.test.images,\n",
    "                                                    tfTrainingLabels: mnist.test.labels,\n",
    "                                                    keep_prob: 1.0})\n",
    "    print (\"Test Accuracy = %10.6f\" % (testAccuracy))"
   ]
  },
  {
   "cell_type": "code",
   "execution_count": null,
   "metadata": {
    "collapsed": true
   },
   "outputs": [],
   "source": []
  }
 ],
 "metadata": {
  "kernelspec": {
   "display_name": "Python 2",
   "language": "python",
   "name": "python2"
  },
  "language_info": {
   "codemirror_mode": {
    "name": "ipython",
    "version": 2
   },
   "file_extension": ".py",
   "mimetype": "text/x-python",
   "name": "python",
   "nbconvert_exporter": "python",
   "pygments_lexer": "ipython2",
   "version": "2.7.9"
  }
 },
 "nbformat": 4,
 "nbformat_minor": 0
}
