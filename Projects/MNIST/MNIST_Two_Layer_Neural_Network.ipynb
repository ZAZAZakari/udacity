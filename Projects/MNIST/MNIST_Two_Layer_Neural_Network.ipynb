{
 "cells": [
  {
   "cell_type": "markdown",
   "metadata": {},
   "source": [
    "# Step 1. Import data and Data Exploration"
   ]
  },
  {
   "cell_type": "code",
   "execution_count": 2,
   "metadata": {
    "collapsed": false
   },
   "outputs": [
    {
     "name": "stdout",
     "output_type": "stream",
     "text": [
      "Extracting MNIST_data/train-images-idx3-ubyte.gz\n",
      "Extracting MNIST_data/train-labels-idx1-ubyte.gz\n",
      "Extracting MNIST_data/t10k-images-idx3-ubyte.gz\n",
      "Extracting MNIST_data/t10k-labels-idx1-ubyte.gz\n"
     ]
    }
   ],
   "source": [
    "from tensorflow.examples.tutorials.mnist import input_data\n",
    "mnist = input_data.read_data_sets(\"MNIST_data/\", one_hot=True)"
   ]
  },
  {
   "cell_type": "code",
   "execution_count": 3,
   "metadata": {
    "collapsed": false
   },
   "outputs": [
    {
     "name": "stdout",
     "output_type": "stream",
     "text": [
      "Shape of Training Dataset: (55000, 784)\n",
      "Shape of Training Labels: (55000, 10)\n",
      "Shape of Test Dataset: (10000, 784)\n",
      "Shape of Test Labels: (10000, 10)\n"
     ]
    }
   ],
   "source": [
    "print (\"Shape of Training Dataset: %s\" % str(mnist.train.images.shape))\n",
    "print (\"Shape of Training Labels: %s\" % str(mnist.train.labels.shape))\n",
    "print (\"Shape of Test Dataset: %s\" % str(mnist.test.images.shape))\n",
    "print (\"Shape of Test Labels: %s\" % str(mnist.test.labels.shape))"
   ]
  },
  {
   "cell_type": "markdown",
   "metadata": {},
   "source": [
    "# Step 2. Construct a tensorflow graph\n",
    "It is a Fully-connected 2-Layer Neural Network [784, 10]\n",
    " * Activation: Softmax \n",
    " * Learning Rate: 0.5\n",
    " * Loss: Cross Entropy"
   ]
  },
  {
   "cell_type": "code",
   "execution_count": 4,
   "metadata": {
    "collapsed": false
   },
   "outputs": [],
   "source": [
    "import tensorflow as tf\n",
    "\n",
    "# Initializing tensorflow graph\n",
    "graph = tf.Graph()\n",
    "with graph.as_default():\n",
    "    # Declaring placeholders \n",
    "    tfTrainingData = tf.placeholder(tf.float32, [None, 784])\n",
    "    tfTrainingLabels = tf.placeholder(tf.float32, [None, 10])\n",
    "    \n",
    "    # Declaring Variables\n",
    "    weights = tf.Variable(tf.zeros([784, 10]))\n",
    "    biases = tf.Variable(tf.zeros([10]))\n",
    "    \n",
    "    # Declaring Operations\n",
    "    output = tf.nn.softmax(tf.matmul(tfTrainingData, weights) + biases)\n",
    "    loss = tf.reduce_mean(-tf.reduce_sum(tfTrainingLabels * tf.log(output), reduction_indices=[1]))\n",
    "    optimizer = tf.train.GradientDescentOptimizer(0.5).minimize(loss)\n",
    "    correctPrediction = tf.equal(tf.argmax(output, 1), tf.argmax(tfTrainingLabels, 1))\n",
    "    accuracy = tf.reduce_mean(tf.cast(correctPrediction, tf.float32))"
   ]
  },
  {
   "cell_type": "markdown",
   "metadata": {},
   "source": [
    "# Step 3. Let the tensor flows!"
   ]
  },
  {
   "cell_type": "code",
   "execution_count": 5,
   "metadata": {
    "collapsed": false
   },
   "outputs": [
    {
     "name": "stdout",
     "output_type": "stream",
     "text": [
      "Step     0: Loss =   2.302583, Accuracy =   0.120000\n",
      "Step   100: Loss =   0.265373, Accuracy =   0.950000\n",
      "Step   200: Loss =   0.290492, Accuracy =   0.930000\n",
      "Step   300: Loss =   0.233550, Accuracy =   0.950000\n",
      "Step   400: Loss =   0.544249, Accuracy =   0.880000\n",
      "Step   500: Loss =   0.274724, Accuracy =   0.920000\n",
      "Step   600: Loss =   0.407821, Accuracy =   0.880000\n",
      "Step   700: Loss =   0.375411, Accuracy =   0.920000\n",
      "Step   800: Loss =   0.352748, Accuracy =   0.890000\n",
      "Step   900: Loss =   0.369830, Accuracy =   0.920000\n",
      "Test Accuracy =   0.915500\n"
     ]
    }
   ],
   "source": [
    "# Flow the tensors here \n",
    "with tf.Session(graph=graph) as session:\n",
    "    session.run(tf.initialize_all_variables())\n",
    "\n",
    "    for step in range(1000):\n",
    "        batchTrainingDataset, batchTrainingLabels = mnist.train.next_batch(100)\n",
    "        _, stepLoss, stepAcc = session.run([optimizer, loss, accuracy], \n",
    "                                    feed_dict={tfTrainingData: batchTrainingDataset,\n",
    "                                               tfTrainingLabels: batchTrainingLabels})\n",
    "        if (step % 100 == 0):\n",
    "            print (\"Step %5d: Loss = %10.6f, Accuracy = %10.6f\" % (step, stepLoss, stepAcc))\n",
    "        \n",
    "    testAccuracy = accuracy.eval(feed_dict={tfTrainingData: mnist.test.images,\n",
    "                                            tfTrainingLabels: mnist.test.labels})\n",
    "    print (\"Test Accuracy = %10.6f\" % (testAccuracy))"
   ]
  },
  {
   "cell_type": "code",
   "execution_count": null,
   "metadata": {
    "collapsed": true
   },
   "outputs": [],
   "source": []
  }
 ],
 "metadata": {
  "kernelspec": {
   "display_name": "Python 2",
   "language": "python",
   "name": "python2"
  },
  "language_info": {
   "codemirror_mode": {
    "name": "ipython",
    "version": 2
   },
   "file_extension": ".py",
   "mimetype": "text/x-python",
   "name": "python",
   "nbconvert_exporter": "python",
   "pygments_lexer": "ipython2",
   "version": "2.7.9"
  }
 },
 "nbformat": 4,
 "nbformat_minor": 0
}
